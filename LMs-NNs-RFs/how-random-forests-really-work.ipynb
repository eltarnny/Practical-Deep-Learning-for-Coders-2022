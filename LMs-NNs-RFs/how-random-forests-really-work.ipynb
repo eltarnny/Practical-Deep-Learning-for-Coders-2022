{
 "cells": [
  {
   "cell_type": "markdown",
   "metadata": {},
   "source": [
    "## Introduction"
   ]
  },
  {
   "cell_type": "code",
   "execution_count": 2,
   "metadata": {},
   "outputs": [],
   "source": [
    "# This imports most relevant libraries like panda, numpy etc\n",
    "from fastai.imports import *\n",
    "from numpy import random\n",
    "from sklearn.model_selection import train_test_split\n",
    "from sklearn.metrics import mean_absolute_error\n",
    "from sklearn.tree import DecisionTreeClassifier, export_graphviz\n",
    "import graphviz\n",
    "from sklearn.ensemble import RandomForestClassifier\n",
    "\n",
    "import seaborn as sns\n",
    "from ipywidgets import interact\n",
    "\n",
    "np.set_printoptions(linewidth=130)"
   ]
  },
  {
   "cell_type": "markdown",
   "metadata": {},
   "source": [
    "## Data preprocessing"
   ]
  },
  {
   "cell_type": "code",
   "execution_count": 3,
   "metadata": {},
   "outputs": [],
   "source": [
    "path = Path('titanic')"
   ]
  },
  {
   "cell_type": "code",
   "execution_count": 4,
   "metadata": {},
   "outputs": [
    {
     "data": {
      "text/plain": [
       "PassengerId                      1\n",
       "Survived                       0.0\n",
       "Pclass                         3.0\n",
       "Name           Abbing, Mr. Anthony\n",
       "Sex                           male\n",
       "Age                           24.0\n",
       "SibSp                          0.0\n",
       "Parch                          0.0\n",
       "Ticket                        1601\n",
       "Fare                          8.05\n",
       "Cabin                      B96 B98\n",
       "Embarked                         S\n",
       "Name: 0, dtype: object"
      ]
     },
     "execution_count": 4,
     "metadata": {},
     "output_type": "execute_result"
    }
   ],
   "source": [
    "df = pd.read_csv(path/'train.csv')\n",
    "tst_df = pd.read_csv(path/'test.csv')\n",
    "modes = df.mode().iloc[0]\n",
    "modes"
   ]
  },
  {
   "cell_type": "code",
   "execution_count": 5,
   "metadata": {},
   "outputs": [],
   "source": [
    "def proc_data(df):\n",
    "    df['Fare'] = df.Fare.fillna(0)\n",
    "    # Fill NAs with the most common value of each column\n",
    "    df.fillna(modes, inplace=True)\n",
    "    # Normalize the Fare with a log\n",
    "    df['LogFare'] = np.log1p(df['Fare'])\n",
    "    # Assign numerical values on categorical data.\n",
    "    # We are not creating dummy variables but we have categories with numerical values\n",
    "    df['Embarked'] = pd.Categorical(df.Embarked)\n",
    "    df['Sex'] = pd.Categorical(df.Sex)\n",
    "\n",
    "proc_data(df)\n",
    "proc_data(tst_df)"
   ]
  },
  {
   "cell_type": "code",
   "execution_count": 6,
   "metadata": {},
   "outputs": [],
   "source": [
    "# Declare categories and continuous variables and dependent variable\n",
    "cats=[\"Sex\",\"Embarked\"]\n",
    "conts=['Age', 'SibSp', 'Parch', 'LogFare',\"Pclass\"]\n",
    "dep=\"Survived\""
   ]
  },
  {
   "cell_type": "code",
   "execution_count": 7,
   "metadata": {},
   "outputs": [
    {
     "data": {
      "text/plain": [
       "0      male\n",
       "1    female\n",
       "2    female\n",
       "3    female\n",
       "4      male\n",
       "Name: Sex, dtype: category\n",
       "Categories (2, object): ['female', 'male']"
      ]
     },
     "execution_count": 7,
     "metadata": {},
     "output_type": "execute_result"
    }
   ],
   "source": [
    "# e.g. columns remain the same but now they have categories\n",
    "df.Sex.head()"
   ]
  },
  {
   "cell_type": "code",
   "execution_count": 8,
   "metadata": {},
   "outputs": [
    {
     "data": {
      "text/plain": [
       "0    1\n",
       "1    0\n",
       "2    0\n",
       "3    0\n",
       "4    1\n",
       "dtype: int8"
      ]
     },
     "execution_count": 8,
     "metadata": {},
     "output_type": "execute_result"
    }
   ],
   "source": [
    "# These are the numerical values of the categories\n",
    "df.Sex.cat.codes.head()"
   ]
  },
  {
   "cell_type": "markdown",
   "metadata": {},
   "source": [
    "## Binary splits"
   ]
  },
  {
   "cell_type": "code",
   "execution_count": 9,
   "metadata": {},
   "outputs": [
    {
     "name": "stderr",
     "output_type": "stream",
     "text": [
      "c:\\Users\\eltar\\anaconda3\\Lib\\site-packages\\seaborn\\categorical.py:641: FutureWarning: The default of observed=False is deprecated and will be changed to True in a future version of pandas. Pass observed=False to retain current behavior or observed=True to adopt the future default and silence this warning.\n",
      "  grouped_vals = vals.groupby(grouper)\n",
      "c:\\Users\\eltar\\anaconda3\\Lib\\site-packages\\seaborn\\categorical.py:641: FutureWarning: The default of observed=False is deprecated and will be changed to True in a future version of pandas. Pass observed=False to retain current behavior or observed=True to adopt the future default and silence this warning.\n",
      "  grouped_vals = vals.groupby(grouper)\n"
     ]
    },
    {
     "data": {
      "text/plain": [
       "[Text(0.5, 1.0, 'Histogram')]"
      ]
     },
     "execution_count": 9,
     "metadata": {},
     "output_type": "execute_result"
    },
    {
     "data": {
      "image/png": "[encoded data removed]",
      "text/plain": [
       "<Figure size 1100x500 with 2 Axes>"
      ]
     },
     "metadata": {},
     "output_type": "display_data"
    }
   ],
   "source": [
    "# (1,2) : the figure will have 1 row and 2 columns of subplots.\n",
    "# figsize=(11,5) : sets the width and height of the figure in inches.\n",
    "fig,axs = plt.subplots(1,2, figsize=(11,5))\n",
    "# Create a bar plot on the first subplot (axs[0]).\n",
    "# data=df : the DataFrame \n",
    "# y=dep and x=\"Sex\" y variable and x variable.\n",
    "sns.barplot(data=df, y=dep, x=\"Sex\", ax=axs[0]).set(title=\"Survival rate\")\n",
    "# Create a count plot (a histogram) on the second subplot (axs[1]).\n",
    "# This time, only the x-axis variable is specified,\n",
    "# and the y-axis will represent counts of the Sex variable. \n",
    "sns.countplot(data=df, x=\"Sex\", ax=axs[1]).set(title=\"Histogram\")"
   ]
  },
  {
   "cell_type": "code",
   "execution_count": 10,
   "metadata": {},
   "outputs": [],
   "source": [
    "# If created the simplest of models spliting by sex, that would be surprisingly good already\n",
    "\n",
    "# Split in training and test sets\n",
    "random.seed(42)\n",
    "trn_df,val_df = train_test_split(df, test_size=0.25)\n",
    "# Apply the categories codes (convert to their codes)\n",
    "trn_df[cats] = trn_df[cats].apply(lambda x: x.cat.codes)\n",
    "val_df[cats] = val_df[cats].apply(lambda x: x.cat.codes)"
   ]
  },
  {
   "cell_type": "code",
   "execution_count": 11,
   "metadata": {},
   "outputs": [],
   "source": [
    "# Function that returns the xs and the ys\n",
    "def xs_y(df):\n",
    "    xs = df[cats+conts].copy()\n",
    "    return xs,df[dep] if dep in df else None\n",
    "\n",
    "trn_xs,trn_y = xs_y(trn_df)\n",
    "val_xs,val_y = xs_y(val_df)"
   ]
  },
  {
   "cell_type": "code",
   "execution_count": 12,
   "metadata": {},
   "outputs": [],
   "source": [
    "# Let's simply predict using Sex\n",
    "preds = val_xs.Sex==0"
   ]
  },
  {
   "cell_type": "code",
   "execution_count": 13,
   "metadata": {},
   "outputs": [
    {
     "data": {
      "text/plain": [
       "0.21524663677130046"
      ]
     },
     "execution_count": 13,
     "metadata": {},
     "output_type": "execute_result"
    }
   ],
   "source": [
    "mean_absolute_error(val_y, preds)\n",
    "# 0.22 is already a pretty good error"
   ]
  },
  {
   "cell_type": "code",
   "execution_count": 14,
   "metadata": {},
   "outputs": [
    {
     "name": "stderr",
     "output_type": "stream",
     "text": [
      "c:\\Users\\eltar\\anaconda3\\Lib\\site-packages\\seaborn\\categorical.py:1794: FutureWarning: use_inf_as_na option is deprecated and will be removed in a future version. Convert inf values to NaN before operating instead.\n",
      "  with pd.option_context('mode.use_inf_as_na', True):\n",
      "c:\\Users\\eltar\\anaconda3\\Lib\\site-packages\\seaborn\\categorical.py:1794: FutureWarning: use_inf_as_na option is deprecated and will be removed in a future version. Convert inf values to NaN before operating instead.\n",
      "  with pd.option_context('mode.use_inf_as_na', True):\n",
      "c:\\Users\\eltar\\anaconda3\\Lib\\site-packages\\seaborn\\_oldcore.py:1119: FutureWarning: use_inf_as_na option is deprecated and will be removed in a future version. Convert inf values to NaN before operating instead.\n",
      "  with pd.option_context('mode.use_inf_as_na', True):\n"
     ]
    },
    {
     "data": {
      "text/plain": [
       "<Axes: xlabel='LogFare', ylabel='Density'>"
      ]
     },
     "execution_count": 14,
     "metadata": {},
     "output_type": "execute_result"
    },
    {
     "data": {
      "image/png": "[encoded data removed]",
      "text/plain": [
       "<Figure size 1100x500 with 2 Axes>"
      ]
     },
     "metadata": {},
     "output_type": "display_data"
    }
   ],
   "source": [
    "# Let's examine Fare\n",
    "df_fare = trn_df[trn_df.LogFare>0]\n",
    "fig,axs = plt.subplots(1,2, figsize=(11,5))\n",
    "sns.boxenplot(data=df_fare, x=dep, y=\"LogFare\", ax=axs[0])\n",
    "# Kernel Density plot (like a continuous histogram)\n",
    "sns.kdeplot(data=df_fare, x=\"LogFare\", ax=axs[1])\n",
    "# We see that we can split a bit under 3.0"
   ]
  },
  {
   "cell_type": "code",
   "execution_count": 15,
   "metadata": {},
   "outputs": [],
   "source": [
    "preds = val_xs.LogFare>2.7"
   ]
  },
  {
   "cell_type": "code",
   "execution_count": 16,
   "metadata": {},
   "outputs": [
    {
     "data": {
      "text/plain": [
       "0.336322869955157"
      ]
     },
     "execution_count": 16,
     "metadata": {},
     "output_type": "execute_result"
    }
   ],
   "source": [
    "mean_absolute_error(val_y, preds)\n",
    "# 0.33 error is not good"
   ]
  },
  {
   "cell_type": "code",
   "execution_count": 17,
   "metadata": {},
   "outputs": [],
   "source": [
    "# Here we create a little interactive tool to see the score of how good a binary split is\n",
    "def _side_score(side, y):\n",
    "    tot = side.sum()\n",
    "    if tot<=1:\n",
    "        return 0\n",
    "    return y[side].std()*tot # the satndard deviation"
   ]
  },
  {
   "cell_type": "code",
   "execution_count": 18,
   "metadata": {},
   "outputs": [],
   "source": [
    "def score(col, y, split):\n",
    "    lhs = col<=split\n",
    "    return (_side_score(lhs,y) + _side_score(~lhs,y))/len(y) # sum stds / len | (~lhs) means not lhs"
   ]
  },
  {
   "cell_type": "code",
   "execution_count": 19,
   "metadata": {},
   "outputs": [
    {
     "data": {
      "text/plain": [
       "0.4078753098206398"
      ]
     },
     "execution_count": 19,
     "metadata": {},
     "output_type": "execute_result"
    }
   ],
   "source": [
    "score(trn_xs[\"Sex\"], trn_y, 0.5)\n",
    "# lower score is better"
   ]
  },
  {
   "cell_type": "code",
   "execution_count": 20,
   "metadata": {},
   "outputs": [
    {
     "data": {
      "text/plain": [
       "0.4718087395209973"
      ]
     },
     "execution_count": 20,
     "metadata": {},
     "output_type": "execute_result"
    }
   ],
   "source": [
    "score(trn_xs[\"LogFare\"], trn_y, 2.7)"
   ]
  },
  {
   "cell_type": "code",
   "execution_count": 21,
   "metadata": {},
   "outputs": [
    {
     "data": {
      "application/vnd.jupyter.widget-view+json": {
       "model_id": "dc628e3fcfcb4916ab9004c52a4a7893",
       "version_major": 2,
       "version_minor": 0
      },
      "text/plain": [
       "interactive(children=(Dropdown(description='nm', options=('Age', 'SibSp', 'Parch', 'LogFare', 'Pclass'), value…"
      ]
     },
     "metadata": {},
     "output_type": "display_data"
    },
    {
     "data": {
      "text/plain": [
       "<function __main__.iscore(nm, split)>"
      ]
     },
     "execution_count": 21,
     "metadata": {},
     "output_type": "execute_result"
    }
   ],
   "source": [
    "def iscore(nm, split):\n",
    "    col = trn_xs[nm]\n",
    "    return score(col, trn_y, split)\n",
    "\n",
    "interact(nm=conts, split=15.5)(iscore)"
   ]
  },
  {
   "cell_type": "code",
   "execution_count": 22,
   "metadata": {},
   "outputs": [
    {
     "data": {
      "application/vnd.jupyter.widget-view+json": {
       "model_id": "058e19f87bb946df83383f4060811be5",
       "version_major": 2,
       "version_minor": 0
      },
      "text/plain": [
       "interactive(children=(Dropdown(description='nm', options=('Sex', 'Embarked'), value='Sex'), IntSlider(value=2,…"
      ]
     },
     "metadata": {},
     "output_type": "display_data"
    },
    {
     "data": {
      "text/plain": [
       "<function __main__.iscore(nm, split)>"
      ]
     },
     "execution_count": 22,
     "metadata": {},
     "output_type": "execute_result"
    }
   ],
   "source": [
    "interact(nm=cats, split=2)(iscore)"
   ]
  },
  {
   "cell_type": "code",
   "execution_count": 23,
   "metadata": {},
   "outputs": [
    {
     "data": {
      "text/plain": [
       "array([ 0.42,  0.67,  0.75,  0.83,  0.92,  1.  ,  2.  ,  3.  ,  4.  ,  5.  ,  6.  ,  7.  ,  8.  ,  9.  , 10.  , 11.  , 12.  ,\n",
       "       13.  , 14.  , 14.5 , 15.  , 16.  , 17.  , 18.  , 19.  , 20.  , 21.  , 22.  , 23.  , 24.  , 24.5 , 25.  , 26.  , 27.  ,\n",
       "       28.  , 28.5 , 29.  , 30.  , 31.  , 32.  , 32.5 , 33.  , 34.  , 34.5 , 35.  , 36.  , 36.5 , 37.  , 38.  , 39.  , 40.  ,\n",
       "       40.5 , 41.  , 42.  , 43.  , 44.  , 45.  , 45.5 , 46.  , 47.  , 48.  , 49.  , 50.  , 51.  , 52.  , 53.  , 54.  , 55.  ,\n",
       "       55.5 , 56.  , 57.  , 58.  , 59.  , 60.  , 61.  , 62.  , 64.  , 65.  , 70.  , 70.5 , 74.  , 80.  ])"
      ]
     },
     "execution_count": 23,
     "metadata": {},
     "output_type": "execute_result"
    }
   ],
   "source": [
    "# Let's try to automate this, here for Age\n",
    "nm = \"Age\"\n",
    "col = trn_xs[nm]\n",
    "unq = col.unique()\n",
    "unq.sort()\n",
    "unq"
   ]
  },
  {
   "cell_type": "code",
   "execution_count": 24,
   "metadata": {},
   "outputs": [
    {
     "data": {
      "text/plain": [
       "6.0"
      ]
     },
     "execution_count": 24,
     "metadata": {},
     "output_type": "execute_result"
    }
   ],
   "source": [
    "scores = np.array([score(col, trn_y, o) for o in unq if not np.isnan(o)])\n",
    "unq[scores.argmin()]"
   ]
  },
  {
   "cell_type": "code",
   "execution_count": 25,
   "metadata": {},
   "outputs": [
    {
     "data": {
      "text/plain": [
       "(6.0, 0.47831671750899085)"
      ]
     },
     "execution_count": 25,
     "metadata": {},
     "output_type": "execute_result"
    }
   ],
   "source": [
    "# So, this calculates the best split for a column\n",
    "def min_col(df, nm):\n",
    "    col,y = df[nm],df[dep]\n",
    "    unq = col.dropna().unique()\n",
    "    scores = np.array([score(col, y, o) for o in unq if not np.isnan(o)])\n",
    "    idx = scores.argmin()\n",
    "    return unq[idx],scores[idx]\n",
    "\n",
    "min_col(trn_df, \"Age\")"
   ]
  },
  {
   "cell_type": "code",
   "execution_count": 26,
   "metadata": {},
   "outputs": [
    {
     "data": {
      "text/plain": [
       "{'Sex': (0, 0.4078753098206398),\n",
       " 'Embarked': (0, 0.478833425731479),\n",
       " 'Age': (6.0, 0.47831671750899085),\n",
       " 'SibSp': (4, 0.4783740258817423),\n",
       " 'Parch': (0, 0.4805296527841601),\n",
       " 'LogFare': (2.4390808375825834, 0.4620823937736595),\n",
       " 'Pclass': (2, 0.4604826188580666)}"
      ]
     },
     "execution_count": 26,
     "metadata": {},
     "output_type": "execute_result"
    }
   ],
   "source": [
    "cols = cats+conts\n",
    "# Calculate the best splits for each column\n",
    "{o:min_col(trn_df, o) for o in cols}"
   ]
  },
  {
   "cell_type": "markdown",
   "metadata": {},
   "source": [
    "## Creating a decision tree"
   ]
  },
  {
   "cell_type": "code",
   "execution_count": 27,
   "metadata": {},
   "outputs": [],
   "source": [
    "# Let's try to further split on another column by removing Sex\n",
    "# and splitting to males and females\n",
    "cols.remove(\"Sex\")\n",
    "ismale = trn_df.Sex==1\n",
    "males,females = trn_df[ismale],trn_df[~ismale]"
   ]
  },
  {
   "cell_type": "code",
   "execution_count": 28,
   "metadata": {},
   "outputs": [
    {
     "data": {
      "text/plain": [
       "{'Embarked': (0, 0.387558187041091),\n",
       " 'Age': (6.0, 0.37398283710105873),\n",
       " 'SibSp': (4, 0.38758642275862637),\n",
       " 'Parch': (0, 0.3874704821461953),\n",
       " 'LogFare': (2.803360380906535, 0.38048562317581447),\n",
       " 'Pclass': (1, 0.3815544200436083)}"
      ]
     },
     "execution_count": 28,
     "metadata": {},
     "output_type": "execute_result"
    }
   ],
   "source": [
    "{o:min_col(males, o) for o in cols}\n",
    "# Age seems the best option males"
   ]
  },
  {
   "cell_type": "code",
   "execution_count": 29,
   "metadata": {},
   "outputs": [
    {
     "data": {
      "text/plain": [
       "{'Embarked': (0, 0.4295252982857326),\n",
       " 'Age': (50.0, 0.4225927658431646),\n",
       " 'SibSp': (4, 0.42319212059713585),\n",
       " 'Parch': (3, 0.4193314500446157),\n",
       " 'LogFare': (4.256321678298823, 0.413505983329114),\n",
       " 'Pclass': (2, 0.3335388911567602)}"
      ]
     },
     "execution_count": 29,
     "metadata": {},
     "output_type": "execute_result"
    }
   ],
   "source": [
    "{o:min_col(females, o) for o in cols}\n",
    "# Pclass seems the best option for females"
   ]
  },
  {
   "cell_type": "code",
   "execution_count": 30,
   "metadata": {},
   "outputs": [],
   "source": [
    "# This time, we will use a Decision Tree (sklearn.tree.DecisionTreeClassifier) to do the job for us\n",
    "m = DecisionTreeClassifier(max_leaf_nodes=4).fit(trn_xs, trn_y)"
   ]
  },
  {
   "cell_type": "code",
   "execution_count": 31,
   "metadata": {},
   "outputs": [],
   "source": [
    "def draw_tree(t, df, size=10, ratio=0.6, precision=2, **kwargs):\n",
    "    s=export_graphviz(t, out_file=None, feature_names=df.columns, filled=True, rounded=True,\n",
    "                      special_characters=True, rotate=False, precision=precision, **kwargs)\n",
    "    return graphviz.Source(re.sub('Tree {', f'Tree {{ size={size}; ratio={ratio}', s))"
   ]
  },
  {
   "cell_type": "code",
   "execution_count": 32,
   "metadata": {},
   "outputs": [
    {
     "data": {
      "image/svg+xml": [
       "<?xml version=\"1.0\" encoding=\"UTF-8\" standalone=\"no\"?>\n",
       "<!DOCTYPE svg PUBLIC \"-//W3C//DTD SVG 1.1//EN\"\n",
       " \"http://www.w3.org/Graphics/SVG/1.1/DTD/svg11.dtd\">\n",
       "<!-- Generated by graphviz version 11.0.0 (20240428.1522)\n",
       " -->\n",
       "<!-- Title: Tree Pages: 1 -->\n",
       "<svg width=\"528pt\" height=\"320pt\"\n",
       " viewBox=\"0.00 0.00 528.12 320.07\" xmlns=\"http://www.w3.org/2000/svg\" xmlns:xlink=\"http://www.w3.org/1999/xlink\">\n",
       "<g id=\"graph0\" class=\"graph\" transform=\"scale(1 1) rotate(0) translate(4 316.07)\">\n",
       "<title>Tree</title>\n",
       "<polygon fill=\"white\" stroke=\"none\" points=\"-4,4 -4,-316.07 524.12,-316.07 524.12,4 -4,4\"/>\n",
       "<!-- 0 -->\n",
       "<g id=\"node1\" class=\"node\">\n",
       "<title>0</title>\n",
       "<path fill=\"#f5ceb2\" stroke=\"black\" d=\"M311.25,-307C311.25,-307 203.75,-307 203.75,-307 197.75,-307 191.75,-301 191.75,-295 191.75,-295 191.75,-245 191.75,-245 191.75,-239 197.75,-233 203.75,-233 203.75,-233 311.25,-233 311.25,-233 317.25,-233 323.25,-239 323.25,-245 323.25,-245 323.25,-295 323.25,-295 323.25,-301 317.25,-307 311.25,-307\"/>\n",
       "<text text-anchor=\"start\" x=\"223.75\" y=\"-289.7\" font-family=\"Helvetica,sans-Serif\" font-size=\"14.00\">Sex ≤ 0.5</text>\n",
       "<text text-anchor=\"start\" x=\"224.12\" y=\"-273.2\" font-family=\"Helvetica,sans-Serif\" font-size=\"14.00\">gini = 0.47</text>\n",
       "<text text-anchor=\"start\" x=\"209.88\" y=\"-256.7\" font-family=\"Helvetica,sans-Serif\" font-size=\"14.00\">samples = 668</text>\n",
       "<text text-anchor=\"start\" x=\"199.75\" y=\"-240.2\" font-family=\"Helvetica,sans-Serif\" font-size=\"14.00\">value = [415, 253]</text>\n",
       "</g>\n",
       "<!-- 1 -->\n",
       "<g id=\"node2\" class=\"node\">\n",
       "<title>1</title>\n",
       "<path fill=\"#7ebfee\" stroke=\"black\" d=\"M237.12,-184C237.12,-184 137.88,-184 137.88,-184 131.88,-184 125.88,-178 125.88,-172 125.88,-172 125.88,-122 125.88,-122 125.88,-116 131.88,-110 137.88,-110 137.88,-110 237.12,-110 237.12,-110 243.12,-110 249.12,-116 249.12,-122 249.12,-122 249.12,-172 249.12,-172 249.12,-178 243.12,-184 237.12,-184\"/>\n",
       "<text text-anchor=\"start\" x=\"144.75\" y=\"-166.7\" font-family=\"Helvetica,sans-Serif\" font-size=\"14.00\">Pclass ≤ 2.5</text>\n",
       "<text text-anchor=\"start\" x=\"154.12\" y=\"-150.2\" font-family=\"Helvetica,sans-Serif\" font-size=\"14.00\">gini = 0.38</text>\n",
       "<text text-anchor=\"start\" x=\"139.88\" y=\"-133.7\" font-family=\"Helvetica,sans-Serif\" font-size=\"14.00\">samples = 229</text>\n",
       "<text text-anchor=\"start\" x=\"133.88\" y=\"-117.2\" font-family=\"Helvetica,sans-Serif\" font-size=\"14.00\">value = [59, 170]</text>\n",
       "</g>\n",
       "<!-- 0&#45;&gt;1 -->\n",
       "<g id=\"edge1\" class=\"edge\">\n",
       "<title>0&#45;&gt;1</title>\n",
       "<path fill=\"none\" stroke=\"black\" d=\"M236.5,-232.7C229.44,-220.49 221.47,-206.72 214.04,-193.87\"/>\n",
       "<polygon fill=\"black\" stroke=\"black\" points=\"217.28,-192.49 209.25,-185.59 211.22,-196 217.28,-192.49\"/>\n",
       "<text text-anchor=\"middle\" x=\"202.04\" y=\"-203.38\" font-family=\"Helvetica,sans-Serif\" font-size=\"14.00\">True</text>\n",
       "</g>\n",
       "<!-- 2 -->\n",
       "<g id=\"node5\" class=\"node\">\n",
       "<title>2</title>\n",
       "<path fill=\"#eb9e67\" stroke=\"black\" d=\"M378.12,-184C378.12,-184 278.88,-184 278.88,-184 272.88,-184 266.88,-178 266.88,-172 266.88,-172 266.88,-122 266.88,-122 266.88,-116 272.88,-110 278.88,-110 278.88,-110 378.12,-110 378.12,-110 384.12,-110 390.12,-116 390.12,-122 390.12,-122 390.12,-172 390.12,-172 390.12,-178 384.12,-184 378.12,-184\"/>\n",
       "<text text-anchor=\"start\" x=\"294.38\" y=\"-166.7\" font-family=\"Helvetica,sans-Serif\" font-size=\"14.00\">Age ≤ 6.5</text>\n",
       "<text text-anchor=\"start\" x=\"295.12\" y=\"-150.2\" font-family=\"Helvetica,sans-Serif\" font-size=\"14.00\">gini = 0.31</text>\n",
       "<text text-anchor=\"start\" x=\"280.88\" y=\"-133.7\" font-family=\"Helvetica,sans-Serif\" font-size=\"14.00\">samples = 439</text>\n",
       "<text text-anchor=\"start\" x=\"274.88\" y=\"-117.2\" font-family=\"Helvetica,sans-Serif\" font-size=\"14.00\">value = [356, 83]</text>\n",
       "</g>\n",
       "<!-- 0&#45;&gt;2 -->\n",
       "<g id=\"edge4\" class=\"edge\">\n",
       "<title>0&#45;&gt;2</title>\n",
       "<path fill=\"none\" stroke=\"black\" d=\"M278.8,-232.7C285.96,-220.49 294.05,-206.72 301.58,-193.87\"/>\n",
       "<polygon fill=\"black\" stroke=\"black\" points=\"304.4,-195.98 306.45,-185.58 298.37,-192.44 304.4,-195.98\"/>\n",
       "<text text-anchor=\"middle\" x=\"313.51\" y=\"-203.42\" font-family=\"Helvetica,sans-Serif\" font-size=\"14.00\">False</text>\n",
       "</g>\n",
       "<!-- 3 -->\n",
       "<g id=\"node3\" class=\"node\">\n",
       "<title>3</title>\n",
       "<path fill=\"#40a0e6\" stroke=\"black\" d=\"M103,-60.75C103,-60.75 12,-60.75 12,-60.75 6,-60.75 0,-54.75 0,-48.75 0,-48.75 0,-15.25 0,-15.25 0,-9.25 6,-3.25 12,-3.25 12,-3.25 103,-3.25 103,-3.25 109,-3.25 115,-9.25 115,-15.25 115,-15.25 115,-48.75 115,-48.75 115,-54.75 109,-60.75 103,-60.75\"/>\n",
       "<text text-anchor=\"start\" x=\"24.12\" y=\"-43.45\" font-family=\"Helvetica,sans-Serif\" font-size=\"14.00\">gini = 0.06</text>\n",
       "<text text-anchor=\"start\" x=\"9.88\" y=\"-26.95\" font-family=\"Helvetica,sans-Serif\" font-size=\"14.00\">samples = 120</text>\n",
       "<text text-anchor=\"start\" x=\"8\" y=\"-10.45\" font-family=\"Helvetica,sans-Serif\" font-size=\"14.00\">value = [4, 116]</text>\n",
       "</g>\n",
       "<!-- 1&#45;&gt;3 -->\n",
       "<g id=\"edge2\" class=\"edge\">\n",
       "<title>1&#45;&gt;3</title>\n",
       "<path fill=\"none\" stroke=\"black\" d=\"M145.65,-109.62C130.51,-96.46 113.44,-81.63 98.39,-68.54\"/>\n",
       "<polygon fill=\"black\" stroke=\"black\" points=\"100.77,-65.98 90.93,-62.06 96.18,-71.26 100.77,-65.98\"/>\n",
       "</g>\n",
       "<!-- 4 -->\n",
       "<g id=\"node4\" class=\"node\">\n",
       "<title>4</title>\n",
       "<path fill=\"#fffdfb\" stroke=\"black\" d=\"M236,-60.75C236,-60.75 145,-60.75 145,-60.75 139,-60.75 133,-54.75 133,-48.75 133,-48.75 133,-15.25 133,-15.25 133,-9.25 139,-3.25 145,-3.25 145,-3.25 236,-3.25 236,-3.25 242,-3.25 248,-9.25 248,-15.25 248,-15.25 248,-48.75 248,-48.75 248,-54.75 242,-60.75 236,-60.75\"/>\n",
       "<text text-anchor=\"start\" x=\"161.25\" y=\"-43.45\" font-family=\"Helvetica,sans-Serif\" font-size=\"14.00\">gini = 0.5</text>\n",
       "<text text-anchor=\"start\" x=\"142.88\" y=\"-26.95\" font-family=\"Helvetica,sans-Serif\" font-size=\"14.00\">samples = 109</text>\n",
       "<text text-anchor=\"start\" x=\"141\" y=\"-10.45\" font-family=\"Helvetica,sans-Serif\" font-size=\"14.00\">value = [55, 54]</text>\n",
       "</g>\n",
       "<!-- 1&#45;&gt;4 -->\n",
       "<g id=\"edge3\" class=\"edge\">\n",
       "<title>1&#45;&gt;4</title>\n",
       "<path fill=\"none\" stroke=\"black\" d=\"M188.47,-109.62C188.78,-97.69 189.14,-84.39 189.46,-72.25\"/>\n",
       "<polygon fill=\"black\" stroke=\"black\" points=\"192.95,-72.67 189.71,-62.58 185.95,-72.48 192.95,-72.67\"/>\n",
       "</g>\n",
       "<!-- 5 -->\n",
       "<g id=\"node6\" class=\"node\">\n",
       "<title>5</title>\n",
       "<path fill=\"#88c4ef\" stroke=\"black\" d=\"M366.88,-60.75C366.88,-60.75 284.12,-60.75 284.12,-60.75 278.12,-60.75 272.12,-54.75 272.12,-48.75 272.12,-48.75 272.12,-15.25 272.12,-15.25 272.12,-9.25 278.12,-3.25 284.12,-3.25 284.12,-3.25 366.88,-3.25 366.88,-3.25 372.88,-3.25 378.88,-9.25 378.88,-15.25 378.88,-15.25 378.88,-48.75 378.88,-48.75 378.88,-54.75 372.88,-60.75 366.88,-60.75\"/>\n",
       "<text text-anchor=\"start\" x=\"292.12\" y=\"-43.45\" font-family=\"Helvetica,sans-Serif\" font-size=\"14.00\">gini = 0.41</text>\n",
       "<text text-anchor=\"start\" x=\"282\" y=\"-26.95\" font-family=\"Helvetica,sans-Serif\" font-size=\"14.00\">samples = 21</text>\n",
       "<text text-anchor=\"start\" x=\"280.12\" y=\"-10.45\" font-family=\"Helvetica,sans-Serif\" font-size=\"14.00\">value = [6, 15]</text>\n",
       "</g>\n",
       "<!-- 2&#45;&gt;5 -->\n",
       "<g id=\"edge5\" class=\"edge\">\n",
       "<title>2&#45;&gt;5</title>\n",
       "<path fill=\"none\" stroke=\"black\" d=\"M327.53,-109.62C327.22,-97.69 326.86,-84.39 326.54,-72.25\"/>\n",
       "<polygon fill=\"black\" stroke=\"black\" points=\"330.05,-72.48 326.29,-62.58 323.05,-72.67 330.05,-72.48\"/>\n",
       "</g>\n",
       "<!-- 6 -->\n",
       "<g id=\"node7\" class=\"node\">\n",
       "<title>6</title>\n",
       "<path fill=\"#ea995f\" stroke=\"black\" d=\"M508.12,-60.75C508.12,-60.75 408.88,-60.75 408.88,-60.75 402.88,-60.75 396.88,-54.75 396.88,-48.75 396.88,-48.75 396.88,-15.25 396.88,-15.25 396.88,-9.25 402.88,-3.25 408.88,-3.25 408.88,-3.25 508.12,-3.25 508.12,-3.25 514.12,-3.25 520.12,-9.25 520.12,-15.25 520.12,-15.25 520.12,-48.75 520.12,-48.75 520.12,-54.75 514.12,-60.75 508.12,-60.75\"/>\n",
       "<text text-anchor=\"start\" x=\"425.12\" y=\"-43.45\" font-family=\"Helvetica,sans-Serif\" font-size=\"14.00\">gini = 0.27</text>\n",
       "<text text-anchor=\"start\" x=\"410.88\" y=\"-26.95\" font-family=\"Helvetica,sans-Serif\" font-size=\"14.00\">samples = 418</text>\n",
       "<text text-anchor=\"start\" x=\"404.88\" y=\"-10.45\" font-family=\"Helvetica,sans-Serif\" font-size=\"14.00\">value = [350, 68]</text>\n",
       "</g>\n",
       "<!-- 2&#45;&gt;6 -->\n",
       "<g id=\"edge6\" class=\"edge\">\n",
       "<title>2&#45;&gt;6</title>\n",
       "<path fill=\"none\" stroke=\"black\" d=\"M370.35,-109.62C385.49,-96.46 402.56,-81.63 417.61,-68.54\"/>\n",
       "<polygon fill=\"black\" stroke=\"black\" points=\"419.82,-71.26 425.07,-62.06 415.23,-65.98 419.82,-71.26\"/>\n",
       "</g>\n",
       "</g>\n",
       "</svg>\n"
      ],
      "text/plain": [
       "<graphviz.sources.Source at 0x164740384d0>"
      ]
     },
     "execution_count": 32,
     "metadata": {},
     "output_type": "execute_result"
    }
   ],
   "source": [
    "# For this you also need to install Graphviz executable from https://graphviz.org/download/\n",
    "# and restart your IDE\n",
    "draw_tree(m, trn_xs, size=10)\n",
    "# We see that 116 1st class females survived and 68 males above 6 years old\n",
    "# The decision tree found the same splits as we did"
   ]
  },
  {
   "cell_type": "code",
   "execution_count": 33,
   "metadata": {},
   "outputs": [],
   "source": [
    "# The default split criterion of DecisionTreeClassifier is 'gini'\n",
    "# This is what gini actually is for a binary case.\n",
    "# The probability of a row value being 1 or 0\n",
    "def gini(cond):\n",
    "    act = df.loc[cond, dep]\n",
    "    return 1 - act.mean()**2 - (1-act).mean()**2"
   ]
  },
  {
   "cell_type": "code",
   "execution_count": 34,
   "metadata": {},
   "outputs": [
    {
     "data": {
      "text/plain": [
       "(0.3828350034484158, 0.3064437162277842)"
      ]
     },
     "execution_count": 34,
     "metadata": {},
     "output_type": "execute_result"
    }
   ],
   "source": [
    "gini(df.Sex=='female'), gini(df.Sex=='male')"
   ]
  },
  {
   "cell_type": "code",
   "execution_count": 35,
   "metadata": {},
   "outputs": [
    {
     "data": {
      "text/plain": [
       "0.2242152466367713"
      ]
     },
     "execution_count": 35,
     "metadata": {},
     "output_type": "execute_result"
    }
   ],
   "source": [
    "# So for the above Decision Tree the error is:\n",
    "mean_absolute_error(val_y, m.predict(val_xs))"
   ]
  },
  {
   "cell_type": "code",
   "execution_count": 36,
   "metadata": {},
   "outputs": [
    {
     "data": {
      "image/svg+xml": [
       "<?xml version=\"1.0\" encoding=\"UTF-8\" standalone=\"no\"?>\n",
       "<!DOCTYPE svg PUBLIC \"-//W3C//DTD SVG 1.1//EN\"\n",
       " \"http://www.w3.org/Graphics/SVG/1.1/DTD/svg11.dtd\">\n",
       "<!-- Generated by graphviz version 11.0.0 (20240428.1522)\n",
       " -->\n",
       "<!-- Title: Tree Pages: 1 -->\n",
       "<svg width=\"1204pt\" height=\"726pt\"\n",
       " viewBox=\"0.00 0.00 1203.83 725.50\" xmlns=\"http://www.w3.org/2000/svg\" xmlns:xlink=\"http://www.w3.org/1999/xlink\">\n",
       "<g id=\"graph0\" class=\"graph\" transform=\"scale(1 1) rotate(0) translate(4 721.5)\">\n",
       "<title>Tree</title>\n",
       "<polygon fill=\"white\" stroke=\"none\" points=\"-4,4 -4,-721.5 1199.83,-721.5 1199.83,4 -4,4\"/>\n",
       "<!-- 0 -->\n",
       "<g id=\"node1\" class=\"node\">\n",
       "<title>0</title>\n",
       "<path fill=\"#f5ceb2\" stroke=\"black\" d=\"M633,-718C633,-718 525.5,-718 525.5,-718 519.5,-718 513.5,-712 513.5,-706 513.5,-706 513.5,-656 513.5,-656 513.5,-650 519.5,-644 525.5,-644 525.5,-644 633,-644 633,-644 639,-644 645,-650 645,-656 645,-656 645,-706 645,-706 645,-712 639,-718 633,-718\"/>\n",
       "<text text-anchor=\"start\" x=\"545.5\" y=\"-700.7\" font-family=\"Helvetica,sans-Serif\" font-size=\"14.00\">Sex ≤ 0.5</text>\n",
       "<text text-anchor=\"start\" x=\"545.87\" y=\"-684.2\" font-family=\"Helvetica,sans-Serif\" font-size=\"14.00\">gini = 0.47</text>\n",
       "<text text-anchor=\"start\" x=\"531.62\" y=\"-667.7\" font-family=\"Helvetica,sans-Serif\" font-size=\"14.00\">samples = 668</text>\n",
       "<text text-anchor=\"start\" x=\"521.5\" y=\"-651.2\" font-family=\"Helvetica,sans-Serif\" font-size=\"14.00\">value = [415, 253]</text>\n",
       "</g>\n",
       "<!-- 1 -->\n",
       "<g id=\"node2\" class=\"node\">\n",
       "<title>1</title>\n",
       "<path fill=\"#7ebfee\" stroke=\"black\" d=\"M477.87,-608C477.87,-608 378.62,-608 378.62,-608 372.62,-608 366.62,-602 366.62,-596 366.62,-596 366.62,-546 366.62,-546 366.62,-540 372.62,-534 378.62,-534 378.62,-534 477.87,-534 477.87,-534 483.87,-534 489.87,-540 489.87,-546 489.87,-546 489.87,-596 489.87,-596 489.87,-602 483.87,-608 477.87,-608\"/>\n",
       "<text text-anchor=\"start\" x=\"385.5\" y=\"-590.7\" font-family=\"Helvetica,sans-Serif\" font-size=\"14.00\">Pclass ≤ 2.5</text>\n",
       "<text text-anchor=\"start\" x=\"394.87\" y=\"-574.2\" font-family=\"Helvetica,sans-Serif\" font-size=\"14.00\">gini = 0.38</text>\n",
       "<text text-anchor=\"start\" x=\"380.62\" y=\"-557.7\" font-family=\"Helvetica,sans-Serif\" font-size=\"14.00\">samples = 229</text>\n",
       "<text text-anchor=\"start\" x=\"374.62\" y=\"-541.2\" font-family=\"Helvetica,sans-Serif\" font-size=\"14.00\">value = [59, 170]</text>\n",
       "</g>\n",
       "<!-- 0&#45;&gt;1 -->\n",
       "<g id=\"edge1\" class=\"edge\">\n",
       "<title>0&#45;&gt;1</title>\n",
       "<path fill=\"none\" stroke=\"black\" d=\"M528.54,-643.74C515.6,-634.48 501.55,-624.43 488.19,-614.87\"/>\n",
       "<polygon fill=\"black\" stroke=\"black\" points=\"490.47,-612.2 480.3,-609.23 486.4,-617.9 490.47,-612.2\"/>\n",
       "<text text-anchor=\"middle\" x=\"483.16\" y=\"-627.96\" font-family=\"Helvetica,sans-Serif\" font-size=\"14.00\">True</text>\n",
       "</g>\n",
       "<!-- 8 -->\n",
       "<g id=\"node9\" class=\"node\">\n",
       "<title>8</title>\n",
       "<path fill=\"#eb9e67\" stroke=\"black\" d=\"M788.87,-608C788.87,-608 689.62,-608 689.62,-608 683.62,-608 677.62,-602 677.62,-596 677.62,-596 677.62,-546 677.62,-546 677.62,-540 683.62,-534 689.62,-534 689.62,-534 788.87,-534 788.87,-534 794.87,-534 800.87,-540 800.87,-546 800.87,-546 800.87,-596 800.87,-596 800.87,-602 794.87,-608 788.87,-608\"/>\n",
       "<text text-anchor=\"start\" x=\"686.75\" y=\"-590.7\" font-family=\"Helvetica,sans-Serif\" font-size=\"14.00\">LogFare ≤ 3.31</text>\n",
       "<text text-anchor=\"start\" x=\"705.87\" y=\"-574.2\" font-family=\"Helvetica,sans-Serif\" font-size=\"14.00\">gini = 0.31</text>\n",
       "<text text-anchor=\"start\" x=\"691.62\" y=\"-557.7\" font-family=\"Helvetica,sans-Serif\" font-size=\"14.00\">samples = 439</text>\n",
       "<text text-anchor=\"start\" x=\"685.62\" y=\"-541.2\" font-family=\"Helvetica,sans-Serif\" font-size=\"14.00\">value = [356, 83]</text>\n",
       "</g>\n",
       "<!-- 0&#45;&gt;8 -->\n",
       "<g id=\"edge8\" class=\"edge\">\n",
       "<title>0&#45;&gt;8</title>\n",
       "<path fill=\"none\" stroke=\"black\" d=\"M632.97,-643.74C646.82,-634.39 661.85,-624.24 676.14,-614.6\"/>\n",
       "<polygon fill=\"black\" stroke=\"black\" points=\"677.81,-617.69 684.14,-609.2 673.89,-611.89 677.81,-617.69\"/>\n",
       "<text text-anchor=\"middle\" x=\"680.63\" y=\"-627.84\" font-family=\"Helvetica,sans-Serif\" font-size=\"14.00\">False</text>\n",
       "</g>\n",
       "<!-- 2 -->\n",
       "<g id=\"node3\" class=\"node\">\n",
       "<title>2</title>\n",
       "<path fill=\"#40a0e6\" stroke=\"black\" d=\"M250.75,-498C250.75,-498 159.75,-498 159.75,-498 153.75,-498 147.75,-492 147.75,-486 147.75,-486 147.75,-436 147.75,-436 147.75,-430 153.75,-424 159.75,-424 159.75,-424 250.75,-424 250.75,-424 256.75,-424 262.75,-430 262.75,-436 262.75,-436 262.75,-486 262.75,-486 262.75,-492 256.75,-498 250.75,-498\"/>\n",
       "<text text-anchor=\"start\" x=\"164.75\" y=\"-480.7\" font-family=\"Helvetica,sans-Serif\" font-size=\"14.00\">SibSp ≤ 0.5</text>\n",
       "<text text-anchor=\"start\" x=\"171.87\" y=\"-464.2\" font-family=\"Helvetica,sans-Serif\" font-size=\"14.00\">gini = 0.06</text>\n",
       "<text text-anchor=\"start\" x=\"157.62\" y=\"-447.7\" font-family=\"Helvetica,sans-Serif\" font-size=\"14.00\">samples = 120</text>\n",
       "<text text-anchor=\"start\" x=\"155.75\" y=\"-431.2\" font-family=\"Helvetica,sans-Serif\" font-size=\"14.00\">value = [4, 116]</text>\n",
       "</g>\n",
       "<!-- 1&#45;&gt;2 -->\n",
       "<g id=\"edge2\" class=\"edge\">\n",
       "<title>1&#45;&gt;2</title>\n",
       "<path fill=\"none\" stroke=\"black\" d=\"M366.13,-539.92C337.31,-525.96 302.97,-509.33 273.43,-495.02\"/>\n",
       "<polygon fill=\"black\" stroke=\"black\" points=\"275.09,-491.94 264.57,-490.73 272.04,-498.24 275.09,-491.94\"/>\n",
       "</g>\n",
       "<!-- 5 -->\n",
       "<g id=\"node6\" class=\"node\">\n",
       "<title>5</title>\n",
       "<path fill=\"#fffdfb\" stroke=\"black\" d=\"M473.75,-498C473.75,-498 382.75,-498 382.75,-498 376.75,-498 370.75,-492 370.75,-486 370.75,-486 370.75,-436 370.75,-436 370.75,-430 376.75,-424 382.75,-424 382.75,-424 473.75,-424 473.75,-424 479.75,-424 485.75,-430 485.75,-436 485.75,-436 485.75,-486 485.75,-486 485.75,-492 479.75,-498 473.75,-498\"/>\n",
       "<text text-anchor=\"start\" x=\"379.87\" y=\"-480.7\" font-family=\"Helvetica,sans-Serif\" font-size=\"14.00\">LogFare ≤ 2.7</text>\n",
       "<text text-anchor=\"start\" x=\"399\" y=\"-464.2\" font-family=\"Helvetica,sans-Serif\" font-size=\"14.00\">gini = 0.5</text>\n",
       "<text text-anchor=\"start\" x=\"380.62\" y=\"-447.7\" font-family=\"Helvetica,sans-Serif\" font-size=\"14.00\">samples = 109</text>\n",
       "<text text-anchor=\"start\" x=\"378.75\" y=\"-431.2\" font-family=\"Helvetica,sans-Serif\" font-size=\"14.00\">value = [55, 54]</text>\n",
       "</g>\n",
       "<!-- 1&#45;&gt;5 -->\n",
       "<g id=\"edge5\" class=\"edge\">\n",
       "<title>1&#45;&gt;5</title>\n",
       "<path fill=\"none\" stroke=\"black\" d=\"M428.25,-533.74C428.25,-525.99 428.25,-517.7 428.25,-509.6\"/>\n",
       "<polygon fill=\"black\" stroke=\"black\" points=\"431.75,-509.86 428.25,-499.86 424.75,-509.86 431.75,-509.86\"/>\n",
       "</g>\n",
       "<!-- 3 -->\n",
       "<g id=\"node4\" class=\"node\">\n",
       "<title>3</title>\n",
       "<path fill=\"#3c9ee5\" stroke=\"black\" d=\"M102.62,-379.75C102.62,-379.75 19.87,-379.75 19.87,-379.75 13.87,-379.75 7.87,-373.75 7.87,-367.75 7.87,-367.75 7.87,-334.25 7.87,-334.25 7.87,-328.25 13.87,-322.25 19.87,-322.25 19.87,-322.25 102.62,-322.25 102.62,-322.25 108.62,-322.25 114.62,-328.25 114.62,-334.25 114.62,-334.25 114.62,-367.75 114.62,-367.75 114.62,-373.75 108.62,-379.75 102.62,-379.75\"/>\n",
       "<text text-anchor=\"start\" x=\"27.87\" y=\"-362.45\" font-family=\"Helvetica,sans-Serif\" font-size=\"14.00\">gini = 0.03</text>\n",
       "<text text-anchor=\"start\" x=\"17.75\" y=\"-345.95\" font-family=\"Helvetica,sans-Serif\" font-size=\"14.00\">samples = 67</text>\n",
       "<text text-anchor=\"start\" x=\"15.87\" y=\"-329.45\" font-family=\"Helvetica,sans-Serif\" font-size=\"14.00\">value = [1, 66]</text>\n",
       "</g>\n",
       "<!-- 2&#45;&gt;3 -->\n",
       "<g id=\"edge3\" class=\"edge\">\n",
       "<title>2&#45;&gt;3</title>\n",
       "<path fill=\"none\" stroke=\"black\" d=\"M156.89,-423.74C141.05,-411.85 123.48,-398.68 107.78,-386.9\"/>\n",
       "<polygon fill=\"black\" stroke=\"black\" points=\"110.08,-384.25 99.98,-381.05 105.88,-389.85 110.08,-384.25\"/>\n",
       "</g>\n",
       "<!-- 4 -->\n",
       "<g id=\"node5\" class=\"node\">\n",
       "<title>4</title>\n",
       "<path fill=\"#45a3e7\" stroke=\"black\" d=\"M246.62,-379.75C246.62,-379.75 163.87,-379.75 163.87,-379.75 157.87,-379.75 151.87,-373.75 151.87,-367.75 151.87,-367.75 151.87,-334.25 151.87,-334.25 151.87,-328.25 157.87,-322.25 163.87,-322.25 163.87,-322.25 246.62,-322.25 246.62,-322.25 252.62,-322.25 258.62,-328.25 258.62,-334.25 258.62,-334.25 258.62,-367.75 258.62,-367.75 258.62,-373.75 252.62,-379.75 246.62,-379.75\"/>\n",
       "<text text-anchor=\"start\" x=\"171.87\" y=\"-362.45\" font-family=\"Helvetica,sans-Serif\" font-size=\"14.00\">gini = 0.11</text>\n",
       "<text text-anchor=\"start\" x=\"161.75\" y=\"-345.95\" font-family=\"Helvetica,sans-Serif\" font-size=\"14.00\">samples = 53</text>\n",
       "<text text-anchor=\"start\" x=\"159.87\" y=\"-329.45\" font-family=\"Helvetica,sans-Serif\" font-size=\"14.00\">value = [3, 50]</text>\n",
       "</g>\n",
       "<!-- 2&#45;&gt;4 -->\n",
       "<g id=\"edge4\" class=\"edge\">\n",
       "<title>2&#45;&gt;4</title>\n",
       "<path fill=\"none\" stroke=\"black\" d=\"M205.25,-423.74C205.25,-413.41 205.25,-402.1 205.25,-391.59\"/>\n",
       "<polygon fill=\"black\" stroke=\"black\" points=\"208.75,-391.66 205.25,-381.66 201.75,-391.66 208.75,-391.66\"/>\n",
       "</g>\n",
       "<!-- 6 -->\n",
       "<g id=\"node7\" class=\"node\">\n",
       "<title>6</title>\n",
       "<path fill=\"#cbe5f8\" stroke=\"black\" d=\"M399.75,-379.75C399.75,-379.75 308.75,-379.75 308.75,-379.75 302.75,-379.75 296.75,-373.75 296.75,-367.75 296.75,-367.75 296.75,-334.25 296.75,-334.25 296.75,-328.25 302.75,-322.25 308.75,-322.25 308.75,-322.25 399.75,-322.25 399.75,-322.25 405.75,-322.25 411.75,-328.25 411.75,-334.25 411.75,-334.25 411.75,-367.75 411.75,-367.75 411.75,-373.75 405.75,-379.75 399.75,-379.75\"/>\n",
       "<text text-anchor=\"start\" x=\"320.87\" y=\"-362.45\" font-family=\"Helvetica,sans-Serif\" font-size=\"14.00\">gini = 0.49</text>\n",
       "<text text-anchor=\"start\" x=\"310.75\" y=\"-345.95\" font-family=\"Helvetica,sans-Serif\" font-size=\"14.00\">samples = 59</text>\n",
       "<text text-anchor=\"start\" x=\"304.75\" y=\"-329.45\" font-family=\"Helvetica,sans-Serif\" font-size=\"14.00\">value = [25, 34]</text>\n",
       "</g>\n",
       "<!-- 5&#45;&gt;6 -->\n",
       "<g id=\"edge6\" class=\"edge\">\n",
       "<title>5&#45;&gt;6</title>\n",
       "<path fill=\"none\" stroke=\"black\" d=\"M403.4,-423.74C395.86,-412.74 387.57,-400.64 379.98,-389.56\"/>\n",
       "<polygon fill=\"black\" stroke=\"black\" points=\"382.92,-387.66 374.38,-381.39 377.15,-391.62 382.92,-387.66\"/>\n",
       "</g>\n",
       "<!-- 7 -->\n",
       "<g id=\"node8\" class=\"node\">\n",
       "<title>7</title>\n",
       "<path fill=\"#f6d5bd\" stroke=\"black\" d=\"M552.75,-379.75C552.75,-379.75 461.75,-379.75 461.75,-379.75 455.75,-379.75 449.75,-373.75 449.75,-367.75 449.75,-367.75 449.75,-334.25 449.75,-334.25 449.75,-328.25 455.75,-322.25 461.75,-322.25 461.75,-322.25 552.75,-322.25 552.75,-322.25 558.75,-322.25 564.75,-328.25 564.75,-334.25 564.75,-334.25 564.75,-367.75 564.75,-367.75 564.75,-373.75 558.75,-379.75 552.75,-379.75\"/>\n",
       "<text text-anchor=\"start\" x=\"473.87\" y=\"-362.45\" font-family=\"Helvetica,sans-Serif\" font-size=\"14.00\">gini = 0.48</text>\n",
       "<text text-anchor=\"start\" x=\"463.75\" y=\"-345.95\" font-family=\"Helvetica,sans-Serif\" font-size=\"14.00\">samples = 50</text>\n",
       "<text text-anchor=\"start\" x=\"457.75\" y=\"-329.45\" font-family=\"Helvetica,sans-Serif\" font-size=\"14.00\">value = [30, 20]</text>\n",
       "</g>\n",
       "<!-- 5&#45;&gt;7 -->\n",
       "<g id=\"edge7\" class=\"edge\">\n",
       "<title>5&#45;&gt;7</title>\n",
       "<path fill=\"none\" stroke=\"black\" d=\"M454.77,-423.74C462.9,-412.63 471.84,-400.4 480.01,-389.23\"/>\n",
       "<polygon fill=\"black\" stroke=\"black\" points=\"482.69,-391.5 485.77,-381.36 477.04,-387.37 482.69,-391.5\"/>\n",
       "</g>\n",
       "<!-- 9 -->\n",
       "<g id=\"node10\" class=\"node\">\n",
       "<title>9</title>\n",
       "<path fill=\"#e99659\" stroke=\"black\" d=\"M788.87,-498C788.87,-498 689.62,-498 689.62,-498 683.62,-498 677.62,-492 677.62,-486 677.62,-486 677.62,-436 677.62,-436 677.62,-430 683.62,-424 689.62,-424 689.62,-424 788.87,-424 788.87,-424 794.87,-424 800.87,-430 800.87,-436 800.87,-436 800.87,-486 800.87,-486 800.87,-492 794.87,-498 788.87,-498\"/>\n",
       "<text text-anchor=\"start\" x=\"701\" y=\"-480.7\" font-family=\"Helvetica,sans-Serif\" font-size=\"14.00\">Age ≤ 20.5</text>\n",
       "<text text-anchor=\"start\" x=\"705.87\" y=\"-464.2\" font-family=\"Helvetica,sans-Serif\" font-size=\"14.00\">gini = 0.24</text>\n",
       "<text text-anchor=\"start\" x=\"691.62\" y=\"-447.7\" font-family=\"Helvetica,sans-Serif\" font-size=\"14.00\">samples = 320</text>\n",
       "<text text-anchor=\"start\" x=\"685.62\" y=\"-431.2\" font-family=\"Helvetica,sans-Serif\" font-size=\"14.00\">value = [275, 45]</text>\n",
       "</g>\n",
       "<!-- 8&#45;&gt;9 -->\n",
       "<g id=\"edge9\" class=\"edge\">\n",
       "<title>8&#45;&gt;9</title>\n",
       "<path fill=\"none\" stroke=\"black\" d=\"M739.25,-533.74C739.25,-525.99 739.25,-517.7 739.25,-509.6\"/>\n",
       "<polygon fill=\"black\" stroke=\"black\" points=\"742.75,-509.86 739.25,-499.86 735.75,-509.86 742.75,-509.86\"/>\n",
       "</g>\n",
       "<!-- 18 -->\n",
       "<g id=\"node19\" class=\"node\">\n",
       "<title>18</title>\n",
       "<path fill=\"#f1bc96\" stroke=\"black\" d=\"M1021.75,-498C1021.75,-498 930.75,-498 930.75,-498 924.75,-498 918.75,-492 918.75,-486 918.75,-486 918.75,-436 918.75,-436 918.75,-430 924.75,-424 930.75,-424 930.75,-424 1021.75,-424 1021.75,-424 1027.75,-424 1033.75,-430 1033.75,-436 1033.75,-436 1033.75,-486 1033.75,-486 1033.75,-492 1027.75,-498 1021.75,-498\"/>\n",
       "<text text-anchor=\"start\" x=\"935.75\" y=\"-480.7\" font-family=\"Helvetica,sans-Serif\" font-size=\"14.00\">SibSp ≤ 0.5</text>\n",
       "<text text-anchor=\"start\" x=\"942.87\" y=\"-464.2\" font-family=\"Helvetica,sans-Serif\" font-size=\"14.00\">gini = 0.43</text>\n",
       "<text text-anchor=\"start\" x=\"928.62\" y=\"-447.7\" font-family=\"Helvetica,sans-Serif\" font-size=\"14.00\">samples = 119</text>\n",
       "<text text-anchor=\"start\" x=\"926.75\" y=\"-431.2\" font-family=\"Helvetica,sans-Serif\" font-size=\"14.00\">value = [81, 38]</text>\n",
       "</g>\n",
       "<!-- 8&#45;&gt;18 -->\n",
       "<g id=\"edge18\" class=\"edge\">\n",
       "<title>8&#45;&gt;18</title>\n",
       "<path fill=\"none\" stroke=\"black\" d=\"M801.2,-541.77C834.02,-526.81 874.39,-508.42 908.08,-493.06\"/>\n",
       "<polygon fill=\"black\" stroke=\"black\" points=\"909.29,-496.36 916.93,-489.03 906.38,-489.99 909.29,-496.36\"/>\n",
       "</g>\n",
       "<!-- 10 -->\n",
       "<g id=\"node11\" class=\"node\">\n",
       "<title>10</title>\n",
       "<path fill=\"#f1b992\" stroke=\"black\" d=\"M705.75,-379.75C705.75,-379.75 614.75,-379.75 614.75,-379.75 608.75,-379.75 602.75,-373.75 602.75,-367.75 602.75,-367.75 602.75,-334.25 602.75,-334.25 602.75,-328.25 608.75,-322.25 614.75,-322.25 614.75,-322.25 705.75,-322.25 705.75,-322.25 711.75,-322.25 717.75,-328.25 717.75,-334.25 717.75,-334.25 717.75,-367.75 717.75,-367.75 717.75,-373.75 711.75,-379.75 705.75,-379.75\"/>\n",
       "<text text-anchor=\"start\" x=\"626.87\" y=\"-362.45\" font-family=\"Helvetica,sans-Serif\" font-size=\"14.00\">gini = 0.43</text>\n",
       "<text text-anchor=\"start\" x=\"616.75\" y=\"-345.95\" font-family=\"Helvetica,sans-Serif\" font-size=\"14.00\">samples = 55</text>\n",
       "<text text-anchor=\"start\" x=\"610.75\" y=\"-329.45\" font-family=\"Helvetica,sans-Serif\" font-size=\"14.00\">value = [38, 17]</text>\n",
       "</g>\n",
       "<!-- 9&#45;&gt;10 -->\n",
       "<g id=\"edge10\" class=\"edge\">\n",
       "<title>9&#45;&gt;10</title>\n",
       "<path fill=\"none\" stroke=\"black\" d=\"M712.72,-423.74C704.6,-412.63 695.65,-400.4 687.48,-389.23\"/>\n",
       "<polygon fill=\"black\" stroke=\"black\" points=\"690.45,-387.37 681.72,-381.36 684.8,-391.5 690.45,-387.37\"/>\n",
       "</g>\n",
       "<!-- 11 -->\n",
       "<g id=\"node12\" class=\"node\">\n",
       "<title>11</title>\n",
       "<path fill=\"#e89050\" stroke=\"black\" d=\"M867.87,-388C867.87,-388 768.62,-388 768.62,-388 762.62,-388 756.62,-382 756.62,-376 756.62,-376 756.62,-326 756.62,-326 756.62,-320 762.62,-314 768.62,-314 768.62,-314 867.87,-314 867.87,-314 873.87,-314 879.87,-320 879.87,-326 879.87,-326 879.87,-376 879.87,-376 879.87,-382 873.87,-388 867.87,-388\"/>\n",
       "<text text-anchor=\"start\" x=\"780\" y=\"-370.7\" font-family=\"Helvetica,sans-Serif\" font-size=\"14.00\">Age ≤ 32.5</text>\n",
       "<text text-anchor=\"start\" x=\"784.87\" y=\"-354.2\" font-family=\"Helvetica,sans-Serif\" font-size=\"14.00\">gini = 0.19</text>\n",
       "<text text-anchor=\"start\" x=\"770.62\" y=\"-337.7\" font-family=\"Helvetica,sans-Serif\" font-size=\"14.00\">samples = 265</text>\n",
       "<text text-anchor=\"start\" x=\"764.62\" y=\"-321.2\" font-family=\"Helvetica,sans-Serif\" font-size=\"14.00\">value = [237, 28]</text>\n",
       "</g>\n",
       "<!-- 9&#45;&gt;11 -->\n",
       "<g id=\"edge11\" class=\"edge\">\n",
       "<title>9&#45;&gt;11</title>\n",
       "<path fill=\"none\" stroke=\"black\" d=\"M765.77,-423.74C771.96,-415.28 778.62,-406.16 785.06,-397.37\"/>\n",
       "<polygon fill=\"black\" stroke=\"black\" points=\"787.68,-399.71 790.76,-389.57 782.03,-395.58 787.68,-399.71\"/>\n",
       "</g>\n",
       "<!-- 12 -->\n",
       "<g id=\"node13\" class=\"node\">\n",
       "<title>12</title>\n",
       "<path fill=\"#e99356\" stroke=\"black\" d=\"M790.87,-278C790.87,-278 691.62,-278 691.62,-278 685.62,-278 679.62,-272 679.62,-266 679.62,-266 679.62,-216 679.62,-216 679.62,-210 685.62,-204 691.62,-204 691.62,-204 790.87,-204 790.87,-204 796.87,-204 802.87,-210 802.87,-216 802.87,-216 802.87,-266 802.87,-266 802.87,-272 796.87,-278 790.87,-278\"/>\n",
       "<text text-anchor=\"start\" x=\"698.87\" y=\"-260.7\" font-family=\"Helvetica,sans-Serif\" font-size=\"14.00\">Age ≤ 24.75</text>\n",
       "<text text-anchor=\"start\" x=\"707.87\" y=\"-244.2\" font-family=\"Helvetica,sans-Serif\" font-size=\"14.00\">gini = 0.22</text>\n",
       "<text text-anchor=\"start\" x=\"693.62\" y=\"-227.7\" font-family=\"Helvetica,sans-Serif\" font-size=\"14.00\">samples = 181</text>\n",
       "<text text-anchor=\"start\" x=\"687.62\" y=\"-211.2\" font-family=\"Helvetica,sans-Serif\" font-size=\"14.00\">value = [158, 23]</text>\n",
       "</g>\n",
       "<!-- 11&#45;&gt;12 -->\n",
       "<g id=\"edge12\" class=\"edge\">\n",
       "<title>11&#45;&gt;12</title>\n",
       "<path fill=\"none\" stroke=\"black\" d=\"M792.39,-313.74C786.42,-305.37 780,-296.36 773.79,-287.64\"/>\n",
       "<polygon fill=\"black\" stroke=\"black\" points=\"776.7,-285.69 768.04,-279.58 771,-289.76 776.7,-285.69\"/>\n",
       "</g>\n",
       "<!-- 17 -->\n",
       "<g id=\"node18\" class=\"node\">\n",
       "<title>17</title>\n",
       "<path fill=\"#e78946\" stroke=\"black\" d=\"M935.62,-269.75C935.62,-269.75 852.87,-269.75 852.87,-269.75 846.87,-269.75 840.87,-263.75 840.87,-257.75 840.87,-257.75 840.87,-224.25 840.87,-224.25 840.87,-218.25 846.87,-212.25 852.87,-212.25 852.87,-212.25 935.62,-212.25 935.62,-212.25 941.62,-212.25 947.62,-218.25 947.62,-224.25 947.62,-224.25 947.62,-257.75 947.62,-257.75 947.62,-263.75 941.62,-269.75 935.62,-269.75\"/>\n",
       "<text text-anchor=\"start\" x=\"860.87\" y=\"-252.45\" font-family=\"Helvetica,sans-Serif\" font-size=\"14.00\">gini = 0.11</text>\n",
       "<text text-anchor=\"start\" x=\"850.75\" y=\"-235.95\" font-family=\"Helvetica,sans-Serif\" font-size=\"14.00\">samples = 84</text>\n",
       "<text text-anchor=\"start\" x=\"848.87\" y=\"-219.45\" font-family=\"Helvetica,sans-Serif\" font-size=\"14.00\">value = [79, 5]</text>\n",
       "</g>\n",
       "<!-- 11&#45;&gt;17 -->\n",
       "<g id=\"edge17\" class=\"edge\">\n",
       "<title>11&#45;&gt;17</title>\n",
       "<path fill=\"none\" stroke=\"black\" d=\"M843.76,-313.74C851.58,-302.63 860.19,-290.4 868.05,-279.23\"/>\n",
       "<polygon fill=\"black\" stroke=\"black\" points=\"870.68,-281.57 873.57,-271.38 864.95,-277.54 870.68,-281.57\"/>\n",
       "</g>\n",
       "<!-- 13 -->\n",
       "<g id=\"node14\" class=\"node\">\n",
       "<title>13</title>\n",
       "<path fill=\"#e88d4c\" stroke=\"black\" d=\"M712.87,-168C712.87,-168 613.62,-168 613.62,-168 607.62,-168 601.62,-162 601.62,-156 601.62,-156 601.62,-106 601.62,-106 601.62,-100 607.62,-94 613.62,-94 613.62,-94 712.87,-94 712.87,-94 718.87,-94 724.87,-100 724.87,-106 724.87,-106 724.87,-156 724.87,-156 724.87,-162 718.87,-168 712.87,-168\"/>\n",
       "<text text-anchor=\"start\" x=\"610.75\" y=\"-150.7\" font-family=\"Helvetica,sans-Serif\" font-size=\"14.00\">LogFare ≤ 2.18</text>\n",
       "<text text-anchor=\"start\" x=\"629.87\" y=\"-134.2\" font-family=\"Helvetica,sans-Serif\" font-size=\"14.00\">gini = 0.16</text>\n",
       "<text text-anchor=\"start\" x=\"615.62\" y=\"-117.7\" font-family=\"Helvetica,sans-Serif\" font-size=\"14.00\">samples = 114</text>\n",
       "<text text-anchor=\"start\" x=\"609.62\" y=\"-101.2\" font-family=\"Helvetica,sans-Serif\" font-size=\"14.00\">value = [104, 10]</text>\n",
       "</g>\n",
       "<!-- 12&#45;&gt;13 -->\n",
       "<g id=\"edge13\" class=\"edge\">\n",
       "<title>12&#45;&gt;13</title>\n",
       "<path fill=\"none\" stroke=\"black\" d=\"M715.06,-203.74C709.01,-195.37 702.5,-186.36 696.21,-177.64\"/>\n",
       "<polygon fill=\"black\" stroke=\"black\" points=\"699.08,-175.64 690.38,-169.58 693.4,-179.73 699.08,-175.64\"/>\n",
       "</g>\n",
       "<!-- 16 -->\n",
       "<g id=\"node17\" class=\"node\">\n",
       "<title>16</title>\n",
       "<path fill=\"#eb9f69\" stroke=\"black\" d=\"M866.75,-159.75C866.75,-159.75 775.75,-159.75 775.75,-159.75 769.75,-159.75 763.75,-153.75 763.75,-147.75 763.75,-147.75 763.75,-114.25 763.75,-114.25 763.75,-108.25 769.75,-102.25 775.75,-102.25 775.75,-102.25 866.75,-102.25 866.75,-102.25 872.75,-102.25 878.75,-108.25 878.75,-114.25 878.75,-114.25 878.75,-147.75 878.75,-147.75 878.75,-153.75 872.75,-159.75 866.75,-159.75\"/>\n",
       "<text text-anchor=\"start\" x=\"787.87\" y=\"-142.45\" font-family=\"Helvetica,sans-Serif\" font-size=\"14.00\">gini = 0.31</text>\n",
       "<text text-anchor=\"start\" x=\"777.75\" y=\"-125.95\" font-family=\"Helvetica,sans-Serif\" font-size=\"14.00\">samples = 67</text>\n",
       "<text text-anchor=\"start\" x=\"771.75\" y=\"-109.45\" font-family=\"Helvetica,sans-Serif\" font-size=\"14.00\">value = [54, 13]</text>\n",
       "</g>\n",
       "<!-- 12&#45;&gt;16 -->\n",
       "<g id=\"edge16\" class=\"edge\">\n",
       "<title>12&#45;&gt;16</title>\n",
       "<path fill=\"none\" stroke=\"black\" d=\"M768.11,-203.74C776.33,-192.63 785.4,-180.4 793.67,-169.23\"/>\n",
       "<polygon fill=\"black\" stroke=\"black\" points=\"796.36,-171.48 799.5,-161.36 790.73,-167.31 796.36,-171.48\"/>\n",
       "</g>\n",
       "<!-- 14 -->\n",
       "<g id=\"node15\" class=\"node\">\n",
       "<title>14</title>\n",
       "<path fill=\"#e99254\" stroke=\"black\" d=\"M632.62,-57.75C632.62,-57.75 549.87,-57.75 549.87,-57.75 543.87,-57.75 537.87,-51.75 537.87,-45.75 537.87,-45.75 537.87,-12.25 537.87,-12.25 537.87,-6.25 543.87,-0.25 549.87,-0.25 549.87,-0.25 632.62,-0.25 632.62,-0.25 638.62,-0.25 644.62,-6.25 644.62,-12.25 644.62,-12.25 644.62,-45.75 644.62,-45.75 644.62,-51.75 638.62,-57.75 632.62,-57.75\"/>\n",
       "<text text-anchor=\"start\" x=\"557.87\" y=\"-40.45\" font-family=\"Helvetica,sans-Serif\" font-size=\"14.00\">gini = 0.21</text>\n",
       "<text text-anchor=\"start\" x=\"547.75\" y=\"-23.95\" font-family=\"Helvetica,sans-Serif\" font-size=\"14.00\">samples = 50</text>\n",
       "<text text-anchor=\"start\" x=\"545.87\" y=\"-7.45\" font-family=\"Helvetica,sans-Serif\" font-size=\"14.00\">value = [44, 6]</text>\n",
       "</g>\n",
       "<!-- 13&#45;&gt;14 -->\n",
       "<g id=\"edge14\" class=\"edge\">\n",
       "<title>13&#45;&gt;14</title>\n",
       "<path fill=\"none\" stroke=\"black\" d=\"M637.05,-93.61C630.85,-85 624.23,-75.81 618,-67.16\"/>\n",
       "<polygon fill=\"black\" stroke=\"black\" points=\"621.01,-65.35 612.32,-59.28 615.33,-69.44 621.01,-65.35\"/>\n",
       "</g>\n",
       "<!-- 15 -->\n",
       "<g id=\"node16\" class=\"node\">\n",
       "<title>15</title>\n",
       "<path fill=\"#e78946\" stroke=\"black\" d=\"M776.62,-57.75C776.62,-57.75 693.87,-57.75 693.87,-57.75 687.87,-57.75 681.87,-51.75 681.87,-45.75 681.87,-45.75 681.87,-12.25 681.87,-12.25 681.87,-6.25 687.87,-0.25 693.87,-0.25 693.87,-0.25 776.62,-0.25 776.62,-0.25 782.62,-0.25 788.62,-6.25 788.62,-12.25 788.62,-12.25 788.62,-45.75 788.62,-45.75 788.62,-51.75 782.62,-57.75 776.62,-57.75\"/>\n",
       "<text text-anchor=\"start\" x=\"701.87\" y=\"-40.45\" font-family=\"Helvetica,sans-Serif\" font-size=\"14.00\">gini = 0.12</text>\n",
       "<text text-anchor=\"start\" x=\"691.75\" y=\"-23.95\" font-family=\"Helvetica,sans-Serif\" font-size=\"14.00\">samples = 64</text>\n",
       "<text text-anchor=\"start\" x=\"689.87\" y=\"-7.45\" font-family=\"Helvetica,sans-Serif\" font-size=\"14.00\">value = [60, 4]</text>\n",
       "</g>\n",
       "<!-- 13&#45;&gt;15 -->\n",
       "<g id=\"edge15\" class=\"edge\">\n",
       "<title>13&#45;&gt;15</title>\n",
       "<path fill=\"none\" stroke=\"black\" d=\"M689.44,-93.61C695.64,-85 702.26,-75.81 708.49,-67.16\"/>\n",
       "<polygon fill=\"black\" stroke=\"black\" points=\"711.16,-69.44 714.17,-59.28 705.48,-65.35 711.16,-69.44\"/>\n",
       "</g>\n",
       "<!-- 19 -->\n",
       "<g id=\"node20\" class=\"node\">\n",
       "<title>19</title>\n",
       "<path fill=\"#f6d5bd\" stroke=\"black\" d=\"M1021.75,-379.75C1021.75,-379.75 930.75,-379.75 930.75,-379.75 924.75,-379.75 918.75,-373.75 918.75,-367.75 918.75,-367.75 918.75,-334.25 918.75,-334.25 918.75,-328.25 924.75,-322.25 930.75,-322.25 930.75,-322.25 1021.75,-322.25 1021.75,-322.25 1027.75,-322.25 1033.75,-328.25 1033.75,-334.25 1033.75,-334.25 1033.75,-367.75 1033.75,-367.75 1033.75,-373.75 1027.75,-379.75 1021.75,-379.75\"/>\n",
       "<text text-anchor=\"start\" x=\"942.87\" y=\"-362.45\" font-family=\"Helvetica,sans-Serif\" font-size=\"14.00\">gini = 0.48</text>\n",
       "<text text-anchor=\"start\" x=\"932.75\" y=\"-345.95\" font-family=\"Helvetica,sans-Serif\" font-size=\"14.00\">samples = 60</text>\n",
       "<text text-anchor=\"start\" x=\"926.75\" y=\"-329.45\" font-family=\"Helvetica,sans-Serif\" font-size=\"14.00\">value = [36, 24]</text>\n",
       "</g>\n",
       "<!-- 18&#45;&gt;19 -->\n",
       "<g id=\"edge19\" class=\"edge\">\n",
       "<title>18&#45;&gt;19</title>\n",
       "<path fill=\"none\" stroke=\"black\" d=\"M976.25,-423.74C976.25,-413.41 976.25,-402.1 976.25,-391.59\"/>\n",
       "<polygon fill=\"black\" stroke=\"black\" points=\"979.75,-391.66 976.25,-381.66 972.75,-391.66 979.75,-391.66\"/>\n",
       "</g>\n",
       "<!-- 20 -->\n",
       "<g id=\"node21\" class=\"node\">\n",
       "<title>20</title>\n",
       "<path fill=\"#eda877\" stroke=\"black\" d=\"M1174.75,-379.75C1174.75,-379.75 1083.75,-379.75 1083.75,-379.75 1077.75,-379.75 1071.75,-373.75 1071.75,-367.75 1071.75,-367.75 1071.75,-334.25 1071.75,-334.25 1071.75,-328.25 1077.75,-322.25 1083.75,-322.25 1083.75,-322.25 1174.75,-322.25 1174.75,-322.25 1180.75,-322.25 1186.75,-328.25 1186.75,-334.25 1186.75,-334.25 1186.75,-367.75 1186.75,-367.75 1186.75,-373.75 1180.75,-379.75 1174.75,-379.75\"/>\n",
       "<text text-anchor=\"start\" x=\"1095.87\" y=\"-362.45\" font-family=\"Helvetica,sans-Serif\" font-size=\"14.00\">gini = 0.36</text>\n",
       "<text text-anchor=\"start\" x=\"1085.75\" y=\"-345.95\" font-family=\"Helvetica,sans-Serif\" font-size=\"14.00\">samples = 59</text>\n",
       "<text text-anchor=\"start\" x=\"1079.75\" y=\"-329.45\" font-family=\"Helvetica,sans-Serif\" font-size=\"14.00\">value = [45, 14]</text>\n",
       "</g>\n",
       "<!-- 18&#45;&gt;20 -->\n",
       "<g id=\"edge20\" class=\"edge\">\n",
       "<title>18&#45;&gt;20</title>\n",
       "<path fill=\"none\" stroke=\"black\" d=\"M1027.62,-423.74C1044.61,-411.74 1063.47,-398.43 1080.27,-386.57\"/>\n",
       "<polygon fill=\"black\" stroke=\"black\" points=\"1081.99,-389.64 1088.14,-381.02 1077.95,-383.92 1081.99,-389.64\"/>\n",
       "</g>\n",
       "</g>\n",
       "</svg>\n"
      ],
      "text/plain": [
       "<graphviz.sources.Source at 0x16473db9cd0>"
      ]
     },
     "execution_count": 36,
     "metadata": {},
     "output_type": "execute_result"
    }
   ],
   "source": [
    "m = DecisionTreeClassifier(min_samples_leaf=50)\n",
    "m.fit(trn_xs, trn_y)\n",
    "draw_tree(m, trn_xs, size=25)"
   ]
  },
  {
   "cell_type": "code",
   "execution_count": 37,
   "metadata": {},
   "outputs": [
    {
     "data": {
      "text/plain": [
       "0.18385650224215247"
      ]
     },
     "execution_count": 37,
     "metadata": {},
     "output_type": "execute_result"
    }
   ],
   "source": [
    "# For this bigger Decision Tree the error is:\n",
    "mean_absolute_error(val_y, m.predict(val_xs))"
   ]
  },
  {
   "cell_type": "code",
   "execution_count": 38,
   "metadata": {},
   "outputs": [],
   "source": [
    "# Save the results\n",
    "tst_df[cats] = tst_df[cats].apply(lambda x: x.cat.codes)\n",
    "tst_xs,_ = xs_y(tst_df)\n",
    "\n",
    "def subm(preds, suff):\n",
    "    tst_df['Survived'] = preds\n",
    "    sub_df = tst_df[['PassengerId','Survived']]\n",
    "    sub_df.to_csv(f'sub-{suff}.csv', index=False)\n",
    "\n",
    "subm(m.predict(tst_xs), 'tree')"
   ]
  },
  {
   "cell_type": "code",
   "execution_count": 39,
   "metadata": {},
   "outputs": [
    {
     "data": {
      "text/plain": [
       "0    S\n",
       "1    C\n",
       "2    S\n",
       "3    S\n",
       "4    S\n",
       "Name: Embarked, dtype: category\n",
       "Categories (3, object): ['C', 'Q', 'S']"
      ]
     },
     "execution_count": 39,
     "metadata": {},
     "output_type": "execute_result"
    }
   ],
   "source": [
    "# Decision Trees do not really need dummy variables or normalization as they handle this through splitting\n",
    "df.Embarked.head()"
   ]
  },
  {
   "cell_type": "code",
   "execution_count": 40,
   "metadata": {},
   "outputs": [
    {
     "data": {
      "text/plain": [
       "0    2\n",
       "1    0\n",
       "2    2\n",
       "3    2\n",
       "4    2\n",
       "dtype: int8"
      ]
     },
     "execution_count": 40,
     "metadata": {},
     "output_type": "execute_result"
    }
   ],
   "source": [
    "df.Embarked.cat.codes.head()"
   ]
  },
  {
   "cell_type": "markdown",
   "metadata": {},
   "source": [
    "## The random forest"
   ]
  },
  {
   "cell_type": "code",
   "execution_count": 41,
   "metadata": {},
   "outputs": [],
   "source": [
    "# By using a lot of not perfect\n",
    "# unbiased and not correlated Decision Trees together (enseble)\n",
    "# on random subsets of the data,\n",
    "# we can average the errors.\n",
    "# The average of a lot of uncoreleted random errors is zero!\n",
    "\n",
    "# The function that creates a tree from a random subset of the data\n",
    "def get_tree(prop=0.75):\n",
    "    n = len(trn_y)\n",
    "    idxs = random.choice(n, int(n*prop))\n",
    "    return DecisionTreeClassifier(min_samples_leaf=5).fit(trn_xs.iloc[idxs], trn_y.iloc[idxs])"
   ]
  },
  {
   "cell_type": "code",
   "execution_count": 42,
   "metadata": {},
   "outputs": [],
   "source": [
    "# Create 100 trees\n",
    "trees = [get_tree() for t in range(100)]"
   ]
  },
  {
   "cell_type": "code",
   "execution_count": 43,
   "metadata": {},
   "outputs": [],
   "source": [
    "# Average the results\n",
    "all_probs = [t.predict(val_xs) for t in trees] # list of vectors\n",
    "avg_probs = np.stack(all_probs).mean(0)"
   ]
  },
  {
   "cell_type": "code",
   "execution_count": 44,
   "metadata": {},
   "outputs": [
    {
     "data": {
      "text/plain": [
       "0.2272645739910314"
      ]
     },
     "execution_count": 44,
     "metadata": {},
     "output_type": "execute_result"
    }
   ],
   "source": [
    "# The error\n",
    "mean_absolute_error(val_y, avg_probs)"
   ]
  },
  {
   "cell_type": "code",
   "execution_count": 54,
   "metadata": {},
   "outputs": [],
   "source": [
    "# We can do the same with sklearn RandomForestClassifier,\n",
    "# but in reality Random Forests also select a random subset of columns for every tree\n",
    "rf = RandomForestClassifier(100, min_samples_leaf=5, oob_score = True)\n",
    "rf.fit(trn_xs, trn_y);"
   ]
  },
  {
   "cell_type": "code",
   "execution_count": 55,
   "metadata": {},
   "outputs": [
    {
     "data": {
      "text/plain": [
       "0.18834080717488788"
      ]
     },
     "execution_count": 55,
     "metadata": {},
     "output_type": "execute_result"
    }
   ],
   "source": [
    "# So the actual error is better\n",
    "mean_absolute_error(val_y, rf.predict(val_xs))"
   ]
  },
  {
   "cell_type": "code",
   "execution_count": 56,
   "metadata": {},
   "outputs": [],
   "source": [
    "# Save the results\n",
    "subm(rf.predict(tst_xs), 'rf')"
   ]
  },
  {
   "cell_type": "code",
   "execution_count": 57,
   "metadata": {},
   "outputs": [
    {
     "data": {
      "text/plain": [
       "<Axes: ylabel='cols'>"
      ]
     },
     "execution_count": 57,
     "metadata": {},
     "output_type": "execute_result"
    },
    {
     "data": {
      "image/png": "[encoded data removed]",
      "text/plain": [
       "<Figure size 640x480 with 1 Axes>"
      ]
     },
     "metadata": {},
     "output_type": "display_data"
    }
   ],
   "source": [
    "# Here we can see the importance of each column\n",
    "pd.DataFrame(dict(cols=trn_xs.columns, imp=m.feature_importances_)).plot('cols', 'imp', 'barh')"
   ]
  },
  {
   "cell_type": "code",
   "execution_count": 60,
   "metadata": {},
   "outputs": [
    {
     "data": {
      "text/plain": [
       "0.8173652694610778"
      ]
     },
     "execution_count": 60,
     "metadata": {},
     "output_type": "execute_result"
    }
   ],
   "source": [
    "# This is the accuracy whilst evaluating.\n",
    "# This is useful, because most of the time\n",
    "# we can get away with training Random Forests on the whole dataset\n",
    "# without keeping a validation set.\n",
    "# Makes sense, as each tree gets a random subset (not the whole dataset).\n",
    "rf.oob_score_"
   ]
  }
 ],
 "metadata": {
  "kernelspec": {
   "display_name": "python3",
   "language": "python",
   "name": "python3"
  },
  "language_info": {
   "codemirror_mode": {
    "name": "ipython",
    "version": 3
   },
   "file_extension": ".py",
   "mimetype": "text/x-python",
   "name": "python",
   "nbconvert_exporter": "python",
   "pygments_lexer": "ipython3",
   "version": "3.11.7"
  }
 },
 "nbformat": 4,
 "nbformat_minor": 4
}
